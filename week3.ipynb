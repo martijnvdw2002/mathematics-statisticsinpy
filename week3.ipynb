{
 "cells": [
  {
   "cell_type": "code",
   "execution_count": 1,
   "metadata": {},
   "outputs": [],
   "source": [
    "# statistics\n",
    "# 0 = 0% it is going to happen\n",
    "# 1 = 100%"
   ]
  },
  {
   "cell_type": "code",
   "execution_count": 2,
   "metadata": {},
   "outputs": [],
   "source": [
    "# multiplication rule is P of 2 of more events\n",
    "# P(Ea and EB) = P(Ea) * P(Eb)"
   ]
  },
  {
   "cell_type": "code",
   "execution_count": 3,
   "metadata": {},
   "outputs": [],
   "source": [
    "# addition rule is either of several events.\n",
    "# P(Ea or Eb) = P(Ea)+P(Eb)\n",
    "# Only when events are exclusive\n",
    "# not exlusive = P(Ea or Eb) = P(Ea) * P(Eb) - P(Ea and Eb)"
   ]
  },
  {
   "cell_type": "code",
   "execution_count": 4,
   "metadata": {},
   "outputs": [
    {
     "data": {
      "text/plain": [
       "0.003"
      ]
     },
     "execution_count": 4,
     "metadata": {},
     "output_type": "execute_result"
    }
   ],
   "source": [
    "0.06*0.05"
   ]
  },
  {
   "cell_type": "code",
   "execution_count": 5,
   "metadata": {},
   "outputs": [
    {
     "data": {
      "text/plain": [
       "0.11"
      ]
     },
     "execution_count": 5,
     "metadata": {},
     "output_type": "execute_result"
    }
   ],
   "source": [
    "0.06+0.05"
   ]
  },
  {
   "cell_type": "code",
   "execution_count": 10,
   "metadata": {},
   "outputs": [
    {
     "name": "stdout",
     "output_type": "stream",
     "text": [
      "0.893\n"
     ]
    }
   ],
   "source": [
    "P = 1 - ((0.05+0.06) - 0.05*0.06)\n",
    "print (P)"
   ]
  },
  {
   "cell_type": "code",
   "execution_count": 15,
   "metadata": {},
   "outputs": [
    {
     "ename": "SyntaxError",
     "evalue": "cannot assign to function call here. Maybe you meant '==' instead of '='? (2785131470.py, line 5)",
     "output_type": "error",
     "traceback": [
      "\u001b[0;36m  Cell \u001b[0;32mIn[15], line 5\u001b[0;36m\u001b[0m\n\u001b[0;31m    P(A|B) = 30/60\u001b[0m\n\u001b[0m    ^\u001b[0m\n\u001b[0;31mSyntaxError\u001b[0m\u001b[0;31m:\u001b[0m cannot assign to function call here. Maybe you meant '==' instead of '='?\n"
     ]
    }
   ],
   "source": [
    "# Conditional probability\n",
    "# When you take smaller part from the total and calculate a prob with that smaller part\n",
    "\n",
    "# Notation P(A|B) =\n",
    "P(A|B) = 30/60\n",
    "Print (P(A|B))"
   ]
  },
  {
   "cell_type": "code",
   "execution_count": 16,
   "metadata": {},
   "outputs": [],
   "source": [
    "# Bayes Theorem\n",
    "# Method of quantifying the probability of an event give some evidence\n",
    "# It is very useful bc when you get new evidence you can update your prior beliefs\n",
    "# It is also used in machine learning application\n",
    "\n",
    "# Formula = Likelihood*prior believe/\n",
    "# P(A|B)= (P(B|A)*P(A))/P(B) "
   ]
  },
  {
   "cell_type": "code",
   "execution_count": null,
   "metadata": {},
   "outputs": [],
   "source": [
    "# P(A|B)"
   ]
  },
  {
   "cell_type": "code",
   "execution_count": 17,
   "metadata": {},
   "outputs": [
    {
     "name": "stdout",
     "output_type": "stream",
     "text": [
      "Probability of not being sick given a positive test result: 0.8389830508474576\n"
     ]
    }
   ],
   "source": [
    "def bayes_theorem(p_a, p_b_given_a, p_b_given_not_a):\n",
    "    # Calculate P(not A)\n",
    "    p_not_a = 1 - p_a\n",
    "    # Calculate P(B)\n",
    "    p_b = (p_b_given_a * p_a) + (p_b_given_not_a * p_not_a)\n",
    "    # Calculate P(A|B)\n",
    "    p_a_given_b = (p_b_given_a * p_a) / p_b\n",
    "    return p_a_given_b\n",
    "\n",
    "# Given probabilities\n",
    "p_a = 0.01  # Probability of being actually sick (having malaria)\n",
    "p_b_given_a = 0.95  # Probability of a positive test result given actually sick\n",
    "p_b_given_not_a = 0.05  # Probability of a positive test result given not actually sick\n",
    "\n",
    "# Calculate the probability of being actually sick given a positive test result\n",
    "p_a_given_b = bayes_theorem(p_a, p_b_given_a, p_b_given_not_a)\n",
    "\n",
    "# Calculate the probability of not being sick given a positive test result\n",
    "p_not_a_given_b = 1 - p_a_given_b\n",
    "\n",
    "print(\"Probability of not being sick given a positive test result:\", p_not_a_given_b)\n"
   ]
  },
  {
   "cell_type": "code",
   "execution_count": 2,
   "metadata": {},
   "outputs": [
    {
     "name": "stdout",
     "output_type": "stream",
     "text": [
      "0 - 0.001599999999999998\n",
      "1 - 0.025599999999999977\n",
      "2 - 0.1535999999999999\n",
      "3 - 0.4096000000000001\n",
      "4 - 0.4096000000000001\n"
     ]
    }
   ],
   "source": [
    "from scipy.stats import binom\n",
    "\n",
    "n =  4\n",
    "p = 0.80\n",
    "for k in range(n+1):\n",
    "    probability = binom.pmf(k, n, p)\n",
    "    print(\"{0} - {1}\".format(k, probability))"
   ]
  },
  {
   "cell_type": "code",
   "execution_count": 3,
   "metadata": {},
   "outputs": [
    {
     "name": "stdout",
     "output_type": "stream",
     "text": [
      "0.512\n"
     ]
    }
   ],
   "source": [
    "from scipy.stats import beta\n",
    "\n",
    "a = 3\n",
    "b = 1\n",
    "\n",
    "p = beta.cdf(0.80, a, b)\n",
    "print(p)"
   ]
  },
  {
   "cell_type": "code",
   "execution_count": null,
   "metadata": {},
   "outputs": [],
   "source": []
  }
 ],
 "metadata": {
  "kernelspec": {
   "display_name": "Python 3",
   "language": "python",
   "name": "python3"
  },
  "language_info": {
   "codemirror_mode": {
    "name": "ipython",
    "version": 3
   },
   "file_extension": ".py",
   "mimetype": "text/x-python",
   "name": "python",
   "nbconvert_exporter": "python",
   "pygments_lexer": "ipython3",
   "version": "3.10.13"
  }
 },
 "nbformat": 4,
 "nbformat_minor": 2
}
