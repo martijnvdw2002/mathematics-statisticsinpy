{
 "cells": [
  {
   "cell_type": "code",
   "execution_count": 6,
   "metadata": {},
   "outputs": [],
   "source": [
    "import pandas as pd"
   ]
  },
  {
   "cell_type": "code",
   "execution_count": 7,
   "metadata": {},
   "outputs": [
    {
     "data": {
      "text/html": [
       "<div>\n",
       "<style scoped>\n",
       "    .dataframe tbody tr th:only-of-type {\n",
       "        vertical-align: middle;\n",
       "    }\n",
       "\n",
       "    .dataframe tbody tr th {\n",
       "        vertical-align: top;\n",
       "    }\n",
       "\n",
       "    .dataframe thead th {\n",
       "        text-align: right;\n",
       "    }\n",
       "</style>\n",
       "<table border=\"1\" class=\"dataframe\">\n",
       "  <thead>\n",
       "    <tr style=\"text-align: right;\">\n",
       "      <th></th>\n",
       "      <th>transaction_id</th>\n",
       "      <th>transaction_date</th>\n",
       "      <th>transaction_time</th>\n",
       "      <th>transaction_qty</th>\n",
       "      <th>store_id</th>\n",
       "      <th>store_location</th>\n",
       "      <th>unit_price</th>\n",
       "      <th>product_category</th>\n",
       "      <th>product_type</th>\n",
       "    </tr>\n",
       "  </thead>\n",
       "  <tbody>\n",
       "    <tr>\n",
       "      <th>0</th>\n",
       "      <td>1</td>\n",
       "      <td>06/11/2023</td>\n",
       "      <td>19:56:10</td>\n",
       "      <td>1.0</td>\n",
       "      <td>3.0</td>\n",
       "      <td>Eindhoven</td>\n",
       "      <td>3.25</td>\n",
       "      <td>Tea</td>\n",
       "      <td>Chai tea</td>\n",
       "    </tr>\n",
       "    <tr>\n",
       "      <th>1</th>\n",
       "      <td>2</td>\n",
       "      <td>06/09/2023</td>\n",
       "      <td>11:41:32</td>\n",
       "      <td>1.0</td>\n",
       "      <td>2.0</td>\n",
       "      <td>Utrecht</td>\n",
       "      <td>2.00</td>\n",
       "      <td>Coffee</td>\n",
       "      <td>Black coffee</td>\n",
       "    </tr>\n",
       "    <tr>\n",
       "      <th>2</th>\n",
       "      <td>3</td>\n",
       "      <td>06/06/2023</td>\n",
       "      <td>17:33:08</td>\n",
       "      <td>2.0</td>\n",
       "      <td>2.0</td>\n",
       "      <td>Utrecht</td>\n",
       "      <td>3.50</td>\n",
       "      <td>Tea</td>\n",
       "      <td>Herbal tea</td>\n",
       "    </tr>\n",
       "    <tr>\n",
       "      <th>3</th>\n",
       "      <td>4</td>\n",
       "      <td>06/08/2023</td>\n",
       "      <td>11:02:34</td>\n",
       "      <td>1.0</td>\n",
       "      <td>1.0</td>\n",
       "      <td>Alkmaar</td>\n",
       "      <td>3.25</td>\n",
       "      <td>Tea</td>\n",
       "      <td>Chai tea</td>\n",
       "    </tr>\n",
       "    <tr>\n",
       "      <th>4</th>\n",
       "      <td>5</td>\n",
       "      <td>06/09/2023</td>\n",
       "      <td>08:56:34</td>\n",
       "      <td>5.0</td>\n",
       "      <td>1.0</td>\n",
       "      <td>Alkmaar</td>\n",
       "      <td>3.00</td>\n",
       "      <td>Tea</td>\n",
       "      <td>Black tea</td>\n",
       "    </tr>\n",
       "  </tbody>\n",
       "</table>\n",
       "</div>"
      ],
      "text/plain": [
       "   transaction_id transaction_date transaction_time  transaction_qty  \\\n",
       "0               1       06/11/2023         19:56:10              1.0   \n",
       "1               2       06/09/2023         11:41:32              1.0   \n",
       "2               3       06/06/2023         17:33:08              2.0   \n",
       "3               4       06/08/2023         11:02:34              1.0   \n",
       "4               5       06/09/2023         08:56:34              5.0   \n",
       "\n",
       "   store_id store_location  unit_price product_category  product_type  \n",
       "0       3.0      Eindhoven        3.25              Tea      Chai tea  \n",
       "1       2.0        Utrecht        2.00           Coffee  Black coffee  \n",
       "2       2.0        Utrecht        3.50              Tea    Herbal tea  \n",
       "3       1.0        Alkmaar        3.25              Tea      Chai tea  \n",
       "4       1.0        Alkmaar        3.00              Tea     Black tea  "
      ]
     },
     "execution_count": 7,
     "metadata": {},
     "output_type": "execute_result"
    }
   ],
   "source": [
    "ds = pd.read_csv('dataset_1655023.csv')\n",
    "ds.head()"
   ]
  },
  {
   "cell_type": "code",
   "execution_count": 9,
   "metadata": {},
   "outputs": [
    {
     "name": "stdout",
     "output_type": "stream",
     "text": [
      "Total transactions: 7148\n",
      "Transactions with more than 2 items: 1445\n",
      "Probability of a transaction having more than 2 items: 20.22%\n"
     ]
    }
   ],
   "source": [
    "# Check for and remove missing data\n",
    "ds.dropna(inplace=True)\n",
    "\n",
    "# Calculate the total number of transactions\n",
    "total_transactions = len(ds)\n",
    "\n",
    "# Calculate the number of transactions with more than 2 items sold\n",
    "transactions_more_than_2_items = len(ds[ds['transaction_qty'] > 2])\n",
    "\n",
    "# Calculate the probability that a transaction contains more than 2 items\n",
    "probability_more_than_2_items = transactions_more_than_2_items / total_transactions\n",
    "\n",
    "# Print the results\n",
    "print(f\"Total transactions: {total_transactions}\")\n",
    "print(f\"Transactions with more than 2 items: {transactions_more_than_2_items}\")\n",
    "print(f\"Probability of a transaction having more than 2 items: {probability_more_than_2_items:.2%}\")\n",
    "\n"
   ]
  }
 ],
 "metadata": {
  "kernelspec": {
   "display_name": "Python 3",
   "language": "python",
   "name": "python3"
  },
  "language_info": {
   "codemirror_mode": {
    "name": "ipython",
    "version": 3
   },
   "file_extension": ".py",
   "mimetype": "text/x-python",
   "name": "python",
   "nbconvert_exporter": "python",
   "pygments_lexer": "ipython3",
   "version": "3.10.13"
  }
 },
 "nbformat": 4,
 "nbformat_minor": 2
}
